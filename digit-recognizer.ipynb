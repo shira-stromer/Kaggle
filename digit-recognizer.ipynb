{
 "cells": [
  {
   "cell_type": "code",
   "execution_count": 1,
   "id": "ff7a4c52",
   "metadata": {
    "_cell_guid": "b1076dfc-b9ad-4769-8c92-a6c4dae69d19",
    "_uuid": "8f2839f25d086af736a60e9eeb907d3b93b6e0e5",
    "execution": {
     "iopub.execute_input": "2024-02-18T20:45:47.190583Z",
     "iopub.status.busy": "2024-02-18T20:45:47.189862Z",
     "iopub.status.idle": "2024-02-18T20:46:02.163910Z",
     "shell.execute_reply": "2024-02-18T20:46:02.162724Z"
    },
    "papermill": {
     "duration": 14.987854,
     "end_time": "2024-02-18T20:46:02.166673",
     "exception": false,
     "start_time": "2024-02-18T20:45:47.178819",
     "status": "completed"
    },
    "tags": []
   },
   "outputs": [
    {
     "name": "stdout",
     "output_type": "stream",
     "text": [
      "/kaggle/input/digit-recognizer/sample_submission.csv\n",
      "/kaggle/input/digit-recognizer/train.csv\n",
      "/kaggle/input/digit-recognizer/test.csv\n"
     ]
    }
   ],
   "source": [
    "# This Python 3 environment comes with many helpful analytics libraries installed\n",
    "# It is defined by the kaggle/python Docker image: https://github.com/kaggle/docker-python\n",
    "# For example, here's several helpful packages to load\n",
    "\n",
    "import numpy as np # linear algebra\n",
    "import pandas as pd # data processing, CSV file I/O (e.g. pd.read_csv)\n",
    "import torch\n",
    "from matplotlib import pyplot as plt\n",
    "from sklearn.model_selection import train_test_split\n",
    "from torchvision.transforms import v2\n",
    "import random\n",
    "from sklearn.metrics import f1_score\n",
    "\n",
    "\n",
    "# Input data files are available in the read-only \"../input/\" directory\n",
    "# For example, running this (by clicking run or pressing Shift+Enter) will list all files under the input directory\n",
    "\n",
    "import os\n",
    "source_dir = ('/kaggle/input' if os.path.exists('/kaggle') else os.environ.get('KAGGLE_DATA')) + '/digit-recognizer'\n",
    "for dirname, _, filenames in os.walk(source_dir):\n",
    "    for filename in filenames:\n",
    "        print(os.path.join(dirname, filename))\n",
    "\n",
    "# You can write up to 20GB to the current directory (/kaggle/working/) that gets preserved as output when you create a version using \"Save & Run All\" \n",
    "# You can also write temporary files to /kaggle/temp/, but they won't be saved outside of the current session"
   ]
  },
  {
   "cell_type": "code",
   "execution_count": 2,
   "id": "d19170bc",
   "metadata": {
    "execution": {
     "iopub.execute_input": "2024-02-18T20:46:02.183570Z",
     "iopub.status.busy": "2024-02-18T20:46:02.183121Z",
     "iopub.status.idle": "2024-02-18T20:46:02.266549Z",
     "shell.execute_reply": "2024-02-18T20:46:02.265658Z"
    },
    "papermill": {
     "duration": 0.093813,
     "end_time": "2024-02-18T20:46:02.268567",
     "exception": false,
     "start_time": "2024-02-18T20:46:02.174754",
     "status": "completed"
    },
    "tags": []
   },
   "outputs": [],
   "source": [
    "device = torch.device('cuda' if torch.cuda.is_available() else 'mps')"
   ]
  },
  {
   "cell_type": "code",
   "execution_count": 3,
   "id": "41ed7a13",
   "metadata": {
    "execution": {
     "iopub.execute_input": "2024-02-18T20:46:02.285073Z",
     "iopub.status.busy": "2024-02-18T20:46:02.284052Z",
     "iopub.status.idle": "2024-02-18T20:46:08.485773Z",
     "shell.execute_reply": "2024-02-18T20:46:08.484838Z"
    },
    "papermill": {
     "duration": 6.212261,
     "end_time": "2024-02-18T20:46:08.488303",
     "exception": false,
     "start_time": "2024-02-18T20:46:02.276042",
     "status": "completed"
    },
    "tags": []
   },
   "outputs": [],
   "source": [
    "train_df = pd.read_csv(source_dir + '/train.csv')\n",
    "test_df = pd.read_csv(source_dir + '/test.csv')\n",
    "sample_submission_df = pd.read_csv(source_dir + '/sample_submission.csv')"
   ]
  },
  {
   "cell_type": "code",
   "execution_count": 4,
   "id": "df049bff",
   "metadata": {
    "execution": {
     "iopub.execute_input": "2024-02-18T20:46:08.505098Z",
     "iopub.status.busy": "2024-02-18T20:46:08.504494Z",
     "iopub.status.idle": "2024-02-18T20:46:08.811097Z",
     "shell.execute_reply": "2024-02-18T20:46:08.810187Z"
    },
    "papermill": {
     "duration": 0.316895,
     "end_time": "2024-02-18T20:46:08.813144",
     "exception": false,
     "start_time": "2024-02-18T20:46:08.496249",
     "status": "completed"
    },
    "tags": []
   },
   "outputs": [
    {
     "data": {
      "text/plain": [
       "<Axes: xlabel='label'>"
      ]
     },
     "execution_count": 4,
     "metadata": {},
     "output_type": "execute_result"
    },
    {
     "data": {
      "image/png": "[encoded data removed]",
      "text/plain": [
       "<Figure size 640x480 with 1 Axes>"
      ]
     },
     "metadata": {},
     "output_type": "display_data"
    }
   ],
   "source": [
    "train_df['label'].value_counts().plot.bar()"
   ]
  },
  {
   "cell_type": "code",
   "execution_count": 5,
   "id": "c598d8ad",
   "metadata": {
    "execution": {
     "iopub.execute_input": "2024-02-18T20:46:08.830283Z",
     "iopub.status.busy": "2024-02-18T20:46:08.830001Z",
     "iopub.status.idle": "2024-02-18T20:46:08.942944Z",
     "shell.execute_reply": "2024-02-18T20:46:08.942079Z"
    },
    "papermill": {
     "duration": 0.123967,
     "end_time": "2024-02-18T20:46:08.945131",
     "exception": false,
     "start_time": "2024-02-18T20:46:08.821164",
     "status": "completed"
    },
    "tags": []
   },
   "outputs": [
    {
     "data": {
      "text/plain": [
       "torch.Size([28, 28])"
      ]
     },
     "execution_count": 5,
     "metadata": {},
     "output_type": "execute_result"
    }
   ],
   "source": [
    "torch.from_numpy(train_df.filter(train_df.columns[1:]).iloc[0].values).reshape(28, 28).shape"
   ]
  },
  {
   "cell_type": "code",
   "execution_count": 6,
   "id": "aed3ff5b",
   "metadata": {
    "execution": {
     "iopub.execute_input": "2024-02-18T20:46:08.962804Z",
     "iopub.status.busy": "2024-02-18T20:46:08.962133Z",
     "iopub.status.idle": "2024-02-18T20:46:08.981709Z",
     "shell.execute_reply": "2024-02-18T20:46:08.980782Z"
    },
    "papermill": {
     "duration": 0.030454,
     "end_time": "2024-02-18T20:46:08.983678",
     "exception": false,
     "start_time": "2024-02-18T20:46:08.953224",
     "status": "completed"
    },
    "tags": []
   },
   "outputs": [
    {
     "data": {
      "text/html": [
       "<div>\n",
       "<style scoped>\n",
       "    .dataframe tbody tr th:only-of-type {\n",
       "        vertical-align: middle;\n",
       "    }\n",
       "\n",
       "    .dataframe tbody tr th {\n",
       "        vertical-align: top;\n",
       "    }\n",
       "\n",
       "    .dataframe thead th {\n",
       "        text-align: right;\n",
       "    }\n",
       "</style>\n",
       "<table border=\"1\" class=\"dataframe\">\n",
       "  <thead>\n",
       "    <tr style=\"text-align: right;\">\n",
       "      <th></th>\n",
       "      <th>label</th>\n",
       "      <th>pixel0</th>\n",
       "      <th>pixel1</th>\n",
       "      <th>pixel2</th>\n",
       "      <th>pixel3</th>\n",
       "      <th>pixel4</th>\n",
       "      <th>pixel5</th>\n",
       "      <th>pixel6</th>\n",
       "      <th>pixel7</th>\n",
       "      <th>pixel8</th>\n",
       "      <th>...</th>\n",
       "      <th>pixel774</th>\n",
       "      <th>pixel775</th>\n",
       "      <th>pixel776</th>\n",
       "      <th>pixel777</th>\n",
       "      <th>pixel778</th>\n",
       "      <th>pixel779</th>\n",
       "      <th>pixel780</th>\n",
       "      <th>pixel781</th>\n",
       "      <th>pixel782</th>\n",
       "      <th>pixel783</th>\n",
       "    </tr>\n",
       "  </thead>\n",
       "  <tbody>\n",
       "    <tr>\n",
       "      <th>0</th>\n",
       "      <td>1</td>\n",
       "      <td>0</td>\n",
       "      <td>0</td>\n",
       "      <td>0</td>\n",
       "      <td>0</td>\n",
       "      <td>0</td>\n",
       "      <td>0</td>\n",
       "      <td>0</td>\n",
       "      <td>0</td>\n",
       "      <td>0</td>\n",
       "      <td>...</td>\n",
       "      <td>0</td>\n",
       "      <td>0</td>\n",
       "      <td>0</td>\n",
       "      <td>0</td>\n",
       "      <td>0</td>\n",
       "      <td>0</td>\n",
       "      <td>0</td>\n",
       "      <td>0</td>\n",
       "      <td>0</td>\n",
       "      <td>0</td>\n",
       "    </tr>\n",
       "    <tr>\n",
       "      <th>1</th>\n",
       "      <td>0</td>\n",
       "      <td>0</td>\n",
       "      <td>0</td>\n",
       "      <td>0</td>\n",
       "      <td>0</td>\n",
       "      <td>0</td>\n",
       "      <td>0</td>\n",
       "      <td>0</td>\n",
       "      <td>0</td>\n",
       "      <td>0</td>\n",
       "      <td>...</td>\n",
       "      <td>0</td>\n",
       "      <td>0</td>\n",
       "      <td>0</td>\n",
       "      <td>0</td>\n",
       "      <td>0</td>\n",
       "      <td>0</td>\n",
       "      <td>0</td>\n",
       "      <td>0</td>\n",
       "      <td>0</td>\n",
       "      <td>0</td>\n",
       "    </tr>\n",
       "    <tr>\n",
       "      <th>2</th>\n",
       "      <td>1</td>\n",
       "      <td>0</td>\n",
       "      <td>0</td>\n",
       "      <td>0</td>\n",
       "      <td>0</td>\n",
       "      <td>0</td>\n",
       "      <td>0</td>\n",
       "      <td>0</td>\n",
       "      <td>0</td>\n",
       "      <td>0</td>\n",
       "      <td>...</td>\n",
       "      <td>0</td>\n",
       "      <td>0</td>\n",
       "      <td>0</td>\n",
       "      <td>0</td>\n",
       "      <td>0</td>\n",
       "      <td>0</td>\n",
       "      <td>0</td>\n",
       "      <td>0</td>\n",
       "      <td>0</td>\n",
       "      <td>0</td>\n",
       "    </tr>\n",
       "  </tbody>\n",
       "</table>\n",
       "<p>3 rows × 785 columns</p>\n",
       "</div>"
      ],
      "text/plain": [
       "   label  pixel0  pixel1  pixel2  pixel3  pixel4  pixel5  pixel6  pixel7  \\\n",
       "0      1       0       0       0       0       0       0       0       0   \n",
       "1      0       0       0       0       0       0       0       0       0   \n",
       "2      1       0       0       0       0       0       0       0       0   \n",
       "\n",
       "   pixel8  ...  pixel774  pixel775  pixel776  pixel777  pixel778  pixel779  \\\n",
       "0       0  ...         0         0         0         0         0         0   \n",
       "1       0  ...         0         0         0         0         0         0   \n",
       "2       0  ...         0         0         0         0         0         0   \n",
       "\n",
       "   pixel780  pixel781  pixel782  pixel783  \n",
       "0         0         0         0         0  \n",
       "1         0         0         0         0  \n",
       "2         0         0         0         0  \n",
       "\n",
       "[3 rows x 785 columns]"
      ]
     },
     "execution_count": 6,
     "metadata": {},
     "output_type": "execute_result"
    }
   ],
   "source": [
    "train_df.head(3)"
   ]
  },
  {
   "cell_type": "code",
   "execution_count": 7,
   "id": "ebbe5334",
   "metadata": {
    "execution": {
     "iopub.execute_input": "2024-02-18T20:46:09.001741Z",
     "iopub.status.busy": "2024-02-18T20:46:09.001234Z",
     "iopub.status.idle": "2024-02-18T20:46:09.671553Z",
     "shell.execute_reply": "2024-02-18T20:46:09.670604Z"
    },
    "papermill": {
     "duration": 0.681349,
     "end_time": "2024-02-18T20:46:09.673797",
     "exception": false,
     "start_time": "2024-02-18T20:46:08.992448",
     "status": "completed"
    },
    "tags": []
   },
   "outputs": [
    {
     "data": {
      "image/png": "[encoded data removed]",
      "text/plain": [
       "<Figure size 1000x400 with 10 Axes>"
      ]
     },
     "metadata": {},
     "output_type": "display_data"
    }
   ],
   "source": [
    "images = train_df.sample(frac=1).reset_index(drop=True).groupby(by='label').first().reset_index(drop=False).filter(train_df.columns[1:]).values.reshape(10, 28, 28)\n",
    "fig, axes = plt.subplots(2, 5, figsize=(10, 4))\n",
    "\n",
    "axes = axes.flatten()\n",
    "\n",
    "for i, ax in enumerate(axes):\n",
    "    ax.imshow(images[i], cmap='gray')\n",
    "    ax.axis('off')\n",
    "\n",
    "plt.tight_layout() \n",
    "plt.show()"
   ]
  },
  {
   "cell_type": "code",
   "execution_count": 8,
   "id": "e7f6402f",
   "metadata": {
    "execution": {
     "iopub.execute_input": "2024-02-18T20:46:09.695850Z",
     "iopub.status.busy": "2024-02-18T20:46:09.695013Z",
     "iopub.status.idle": "2024-02-18T20:46:10.322853Z",
     "shell.execute_reply": "2024-02-18T20:46:10.321930Z"
    },
    "papermill": {
     "duration": 0.641829,
     "end_time": "2024-02-18T20:46:10.325807",
     "exception": false,
     "start_time": "2024-02-18T20:46:09.683978",
     "status": "completed"
    },
    "tags": []
   },
   "outputs": [],
   "source": [
    "label = torch.tensor(train_df['label'])\n",
    "train = torch.tensor(np.array(train_df.drop(['label'], axis = 1)), dtype=torch.float32).reshape(len(train_df), 1, 28, 28)\n",
    "train = train / 255"
   ]
  },
  {
   "cell_type": "code",
   "execution_count": 9,
   "id": "a5fc2830",
   "metadata": {
    "execution": {
     "iopub.execute_input": "2024-02-18T20:46:10.345874Z",
     "iopub.status.busy": "2024-02-18T20:46:10.345513Z",
     "iopub.status.idle": "2024-02-18T20:46:10.457210Z",
     "shell.execute_reply": "2024-02-18T20:46:10.456041Z"
    },
    "papermill": {
     "duration": 0.125543,
     "end_time": "2024-02-18T20:46:10.460564",
     "exception": false,
     "start_time": "2024-02-18T20:46:10.335021",
     "status": "completed"
    },
    "tags": []
   },
   "outputs": [],
   "source": [
    "test = torch.tensor(np.array(test_df), dtype=torch.float32).reshape(len(test_df), 1, 28, 28)"
   ]
  },
  {
   "cell_type": "code",
   "execution_count": 10,
   "id": "69134256",
   "metadata": {
    "execution": {
     "iopub.execute_input": "2024-02-18T20:46:10.483664Z",
     "iopub.status.busy": "2024-02-18T20:46:10.482412Z",
     "iopub.status.idle": "2024-02-18T20:46:10.844628Z",
     "shell.execute_reply": "2024-02-18T20:46:10.843642Z"
    },
    "papermill": {
     "duration": 0.376086,
     "end_time": "2024-02-18T20:46:10.846882",
     "exception": false,
     "start_time": "2024-02-18T20:46:10.470796",
     "status": "completed"
    },
    "tags": []
   },
   "outputs": [
    {
     "data": {
      "text/plain": [
       "(33600, 8400, 33600, 8400)"
      ]
     },
     "execution_count": 10,
     "metadata": {},
     "output_type": "execute_result"
    }
   ],
   "source": [
    "X_train, X_val, y_train, y_val = train_test_split(train, label ,test_size = 0.20,random_state = 42, stratify=label)\n",
    "len(X_train), len(X_val), len(y_train), len(y_val)"
   ]
  },
  {
   "cell_type": "code",
   "execution_count": 11,
   "id": "b43b5379",
   "metadata": {
    "execution": {
     "iopub.execute_input": "2024-02-18T20:46:10.866710Z",
     "iopub.status.busy": "2024-02-18T20:46:10.866383Z",
     "iopub.status.idle": "2024-02-18T20:46:11.282120Z",
     "shell.execute_reply": "2024-02-18T20:46:11.281145Z"
    },
    "papermill": {
     "duration": 0.427133,
     "end_time": "2024-02-18T20:46:11.284133",
     "exception": false,
     "start_time": "2024-02-18T20:46:10.857000",
     "status": "completed"
    },
    "tags": []
   },
   "outputs": [
    {
     "name": "stdout",
     "output_type": "stream",
     "text": [
      "0\n"
     ]
    },
    {
     "name": "stderr",
     "output_type": "stream",
     "text": [
      "/opt/conda/lib/python3.10/site-packages/torchvision/transforms/v2/_deprecated.py:43: UserWarning: The transform `ToTensor()` is deprecated and will be removed in a future release. Instead, please use `v2.Compose([v2.ToImage(), v2.ToDtype(torch.float32, scale=True)])`.\n",
      "  warnings.warn(\n"
     ]
    },
    {
     "data": {
      "image/png": "[encoded data removed]",
      "text/plain": [
       "<Figure size 1000x400 with 3 Axes>"
      ]
     },
     "metadata": {},
     "output_type": "display_data"
    }
   ],
   "source": [
    "index = random.randint(0, len(X_train))\n",
    "image =  X_train[index]\n",
    "print(y_train[index].item())\n",
    "\n",
    "mean = X_train.mean().item()\n",
    "std = X_train.std().item()\n",
    "\n",
    "# Define transformations\n",
    "transform = v2.Compose([# Convert image to PyTorch tensor,\n",
    "    v2.RandomResizedCrop(scale=(0.8, 1), size=(28, 28), antialias=True),\n",
    "    #v2.RandomHorizontalFlip(p=0),\n",
    "    #v2.Normalize(mean=(mean,), std=(std,)),\n",
    "    v2.RandomApply([v2.ColorJitter(brightness=0.5, contrast=0.5, saturation=0.2, hue=0.1)], p=0.6),\n",
    "    #v2.RandomAffine(30, scale=(0.95, 1)),\n",
    "    v2.RandomRotation(degrees=(-45, 45))\n",
    "])\n",
    "\n",
    "#transform = v2.ToTensor()\n",
    "transform_val = v2.ToTensor() #v2.Normalize(mean=(mean,), std=(std,))\n",
    "# Assuming 'image' is your 28x28 image\n",
    "processed_image = transform(image)\n",
    "processed_val_image = transform_val(image)\n",
    "images = [image, processed_image, processed_val_image]\n",
    "fig, axes = plt.subplots(1, 3, figsize=(10, 4))\n",
    "\n",
    "axes = axes.flatten()\n",
    "\n",
    "for i, ax in enumerate(axes):\n",
    "    ax.imshow(images[i].numpy().reshape(28, 28), cmap='gray')\n",
    "    ax.axis('off')\n",
    "\n",
    "plt.tight_layout() \n",
    "plt.show()"
   ]
  },
  {
   "cell_type": "code",
   "execution_count": 12,
   "id": "cafa0e36",
   "metadata": {
    "execution": {
     "iopub.execute_input": "2024-02-18T20:46:11.303641Z",
     "iopub.status.busy": "2024-02-18T20:46:11.303073Z",
     "iopub.status.idle": "2024-02-18T20:46:11.502106Z",
     "shell.execute_reply": "2024-02-18T20:46:11.501124Z"
    },
    "papermill": {
     "duration": 0.211372,
     "end_time": "2024-02-18T20:46:11.504568",
     "exception": false,
     "start_time": "2024-02-18T20:46:11.293196",
     "status": "completed"
    },
    "tags": []
   },
   "outputs": [],
   "source": [
    "import torch\n",
    "import torch.nn as nn\n",
    "import torch.nn.functional as F\n",
    "\n",
    "class SimpleCNN(nn.Module):\n",
    "    def __init__(self):\n",
    "        super(SimpleCNN, self).__init__()\n",
    "        self.conv1 = nn.Conv2d(1, 16, 3, padding=1)\n",
    "        self.conv2 = nn.Conv2d(16, 32, 3, padding=1)\n",
    "        self.fc1 = nn.Linear(32 * 7 * 7, 128)\n",
    "        self.fc2 = nn.Linear(128, 10)\n",
    "\n",
    "    def forward(self, x):\n",
    "        x = F.relu(self.conv1(x))\n",
    "        x = F.max_pool2d(x, 2)\n",
    "        x = F.relu(self.conv2(x))\n",
    "        x = F.max_pool2d(x, 2)\n",
    "        x = x.view(-1, 32 * 7 * 7)\n",
    "        x = F.relu(self.fc1(x))\n",
    "        x = self.fc2(x)\n",
    "        return F.log_softmax(x, dim=1)\n",
    "\n",
    "class SimpleDropoutCNN(nn.Module):\n",
    "    def __init__(self):\n",
    "        super(SimpleDropoutCNN, self).__init__()\n",
    "        self.conv1 = nn.Conv2d(1, 16, 3, padding=1)\n",
    "        self.conv2 = nn.Conv2d(16, 32, 3, padding=1)\n",
    "        self.fc1 = nn.Linear(32 * 7 * 7, 128)\n",
    "        self.fc2 = nn.Linear(128, 10)\n",
    "        self.dropout = nn.Dropout(0.25)  # Add dropout layer with dropout probability of 0.5\n",
    "\n",
    "    def forward(self, x):\n",
    "        x = F.relu(self.conv1(x))\n",
    "        x = F.max_pool2d(x, 2)\n",
    "        x = self.dropout(x)  # Apply dropout after the first convolutional layer\n",
    "        x = F.relu(self.conv2(x))\n",
    "        x = F.max_pool2d(x, 2)\n",
    "        x = x.view(-1, 32 * 7 * 7)\n",
    "        x = F.relu(self.fc1(x))\n",
    "        x = self.dropout(x)  # Apply dropout before the final fully connected layer\n",
    "        x = self.fc2(x)\n",
    "        return F.log_softmax(x, dim=1)\n",
    "\n",
    "\n",
    "# Instantiate the model\n",
    "model = SimpleDropoutCNN().to(device)\n"
   ]
  },
  {
   "cell_type": "code",
   "execution_count": 13,
   "id": "b8c22346",
   "metadata": {
    "execution": {
     "iopub.execute_input": "2024-02-18T20:46:11.523850Z",
     "iopub.status.busy": "2024-02-18T20:46:11.523541Z",
     "iopub.status.idle": "2024-02-18T20:46:11.542771Z",
     "shell.execute_reply": "2024-02-18T20:46:11.541900Z"
    },
    "papermill": {
     "duration": 0.031183,
     "end_time": "2024-02-18T20:46:11.544891",
     "exception": false,
     "start_time": "2024-02-18T20:46:11.513708",
     "status": "completed"
    },
    "tags": []
   },
   "outputs": [],
   "source": [
    "import torch\n",
    "from torch.utils.data import Dataset, DataLoader, RandomSampler\n",
    "\n",
    "# Define custom dataset class\n",
    "class DigitImageDataset(Dataset):\n",
    "    def __init__(self, data, labels, transformer=None):\n",
    "        self.data = data\n",
    "        self.labels = labels\n",
    "        self.transformer = transformer\n",
    "\n",
    "    def __len__(self):\n",
    "        return len(self.data)\n",
    "\n",
    "    def __getitem__(self, idx):\n",
    "        image = self.data[idx]\n",
    "        if self.transformer is not None and random.random() > 0.6:\n",
    "            image = self.transformer(image)\n",
    "        sample = (image, self.labels[idx])\n",
    "        return sample\n",
    "\n",
    "# Assuming you have your data and labels in variables 'data' and 'labels'\n",
    "# Create an instance of CustomDataset\n",
    "dataset = DigitImageDataset(X_train, y_train)\n",
    "\n",
    "# Define batch size\n",
    "batch_size = 32\n",
    "\n",
    "# Create DataLoader\n",
    "dataloader = DataLoader(dataset, batch_size=batch_size, shuffle=True)\n",
    "for x1, x2 in dataloader:\n",
    "    break"
   ]
  },
  {
   "cell_type": "code",
   "execution_count": 14,
   "id": "812124d5",
   "metadata": {
    "execution": {
     "iopub.execute_input": "2024-02-18T20:46:11.564769Z",
     "iopub.status.busy": "2024-02-18T20:46:11.564227Z",
     "iopub.status.idle": "2024-02-18T20:46:11.569729Z",
     "shell.execute_reply": "2024-02-18T20:46:11.568875Z"
    },
    "papermill": {
     "duration": 0.017389,
     "end_time": "2024-02-18T20:46:11.571642",
     "exception": false,
     "start_time": "2024-02-18T20:46:11.554253",
     "status": "completed"
    },
    "tags": []
   },
   "outputs": [],
   "source": [
    "sampler = RandomSampler(dataset, replacement=True, num_samples=len(X_train))\n",
    "train_dataloader = DataLoader(DigitImageDataset(X_train, y_train, transform), batch_size=64, sampler=sampler)\n",
    "val_dataset = DigitImageDataset(X_val, y_val, transform_val)\n",
    "val_dataloader = DataLoader(val_dataset, batch_size=128)"
   ]
  },
  {
   "cell_type": "code",
   "execution_count": 15,
   "id": "1cd61d1c",
   "metadata": {
    "execution": {
     "iopub.execute_input": "2024-02-18T20:46:11.591197Z",
     "iopub.status.busy": "2024-02-18T20:46:11.590428Z",
     "iopub.status.idle": "2024-02-18T20:46:11.596012Z",
     "shell.execute_reply": "2024-02-18T20:46:11.595058Z"
    },
    "papermill": {
     "duration": 0.01731,
     "end_time": "2024-02-18T20:46:11.597962",
     "exception": false,
     "start_time": "2024-02-18T20:46:11.580652",
     "status": "completed"
    },
    "tags": []
   },
   "outputs": [
    {
     "data": {
      "text/plain": [
       "8400"
      ]
     },
     "execution_count": 15,
     "metadata": {},
     "output_type": "execute_result"
    }
   ],
   "source": [
    "len(val_dataset)"
   ]
  },
  {
   "cell_type": "code",
   "execution_count": 16,
   "id": "9260117f",
   "metadata": {
    "execution": {
     "iopub.execute_input": "2024-02-18T20:46:11.617530Z",
     "iopub.status.busy": "2024-02-18T20:46:11.617205Z",
     "iopub.status.idle": "2024-02-18T20:46:11.621996Z",
     "shell.execute_reply": "2024-02-18T20:46:11.621124Z"
    },
    "papermill": {
     "duration": 0.016864,
     "end_time": "2024-02-18T20:46:11.623821",
     "exception": false,
     "start_time": "2024-02-18T20:46:11.606957",
     "status": "completed"
    },
    "tags": []
   },
   "outputs": [],
   "source": [
    "from torch.optim import Adam\n",
    "\n",
    "optimizer = Adam(model.parameters(), lr=5e-5)\n",
    "loss_fn = torch.nn.CrossEntropyLoss().to(device)\n"
   ]
  },
  {
   "cell_type": "code",
   "execution_count": 17,
   "id": "68c6932b",
   "metadata": {
    "execution": {
     "iopub.execute_input": "2024-02-18T20:46:11.643133Z",
     "iopub.status.busy": "2024-02-18T20:46:11.642850Z",
     "iopub.status.idle": "2024-02-18T20:46:11.648365Z",
     "shell.execute_reply": "2024-02-18T20:46:11.647528Z"
    },
    "papermill": {
     "duration": 0.017592,
     "end_time": "2024-02-18T20:46:11.650442",
     "exception": false,
     "start_time": "2024-02-18T20:46:11.632850",
     "status": "completed"
    },
    "tags": []
   },
   "outputs": [
    {
     "data": {
      "text/plain": [
       "1e-05"
      ]
     },
     "execution_count": 17,
     "metadata": {},
     "output_type": "execute_result"
    }
   ],
   "source": [
    "0.00001"
   ]
  },
  {
   "cell_type": "code",
   "execution_count": 18,
   "id": "8a01ed3e",
   "metadata": {
    "execution": {
     "iopub.execute_input": "2024-02-18T20:46:11.670490Z",
     "iopub.status.busy": "2024-02-18T20:46:11.669808Z",
     "iopub.status.idle": "2024-02-18T20:46:11.681052Z",
     "shell.execute_reply": "2024-02-18T20:46:11.680398Z"
    },
    "papermill": {
     "duration": 0.023277,
     "end_time": "2024-02-18T20:46:11.682943",
     "exception": false,
     "start_time": "2024-02-18T20:46:11.659666",
     "status": "completed"
    },
    "tags": []
   },
   "outputs": [],
   "source": [
    "from transformers import get_scheduler\n",
    "\n",
    "num_epochs = 3\n",
    "num_training_steps = num_epochs * len(train_dataloader)\n",
    "lr_scheduler = get_scheduler(\n",
    "    name=\"linear\", optimizer=optimizer, num_warmup_steps=0, num_training_steps=num_training_steps\n",
    ")"
   ]
  },
  {
   "cell_type": "code",
   "execution_count": 19,
   "id": "49059082",
   "metadata": {
    "execution": {
     "iopub.execute_input": "2024-02-18T20:46:11.702377Z",
     "iopub.status.busy": "2024-02-18T20:46:11.702118Z",
     "iopub.status.idle": "2024-02-18T20:46:11.709492Z",
     "shell.execute_reply": "2024-02-18T20:46:11.708663Z"
    },
    "papermill": {
     "duration": 0.019132,
     "end_time": "2024-02-18T20:46:11.711407",
     "exception": false,
     "start_time": "2024-02-18T20:46:11.692275",
     "status": "completed"
    },
    "tags": []
   },
   "outputs": [],
   "source": [
    "def train_one_epoch(epoch_index, tb_writer):\n",
    "    running_loss = 0.\n",
    "    last_loss = 0.\n",
    "\n",
    "    # Here, we use enumerate(training_loader) instead of\n",
    "    # iter(training_loader) so that we can track the batch\n",
    "    # index and do some intra-epoch reporting\n",
    "    for i, data in enumerate(train_dataloader):\n",
    "        # Every data instance is an input + label pair\n",
    "        inputs, labels = data\n",
    "        inputs = inputs.to(device)\n",
    "        labels = labels.to(device)\n",
    "\n",
    "        # Zero your gradients for every batch!\n",
    "        optimizer.zero_grad()\n",
    "\n",
    "        # Make predictions for this batch\n",
    "        outputs = model(inputs)\n",
    "\n",
    "        # Compute the loss and its gradients\n",
    "        loss = loss_fn(outputs, labels)\n",
    "        loss.backward()\n",
    "\n",
    "        # Adjust learning weights\n",
    "        optimizer.step()\n",
    "\n",
    "        # Gather data and report\n",
    "        running_loss += loss.item()\n",
    "        if i % 1000 == 999:\n",
    "            last_loss = running_loss / 1000 # loss per batch\n",
    "            print('  batch {} loss: {}'.format(i + 1, last_loss))\n",
    "            tb_x = epoch_index * len(train_dataloader) + i + 1\n",
    "            tb_writer.add_scalar('Loss/train', last_loss, tb_x)\n",
    "            running_loss = 0.\n",
    "\n",
    "    return last_loss"
   ]
  },
  {
   "cell_type": "code",
   "execution_count": 20,
   "id": "2917492d",
   "metadata": {
    "execution": {
     "iopub.execute_input": "2024-02-18T20:46:11.730857Z",
     "iopub.status.busy": "2024-02-18T20:46:11.730418Z",
     "iopub.status.idle": "2024-02-18T20:46:11.733956Z",
     "shell.execute_reply": "2024-02-18T20:46:11.733147Z"
    },
    "papermill": {
     "duration": 0.015565,
     "end_time": "2024-02-18T20:46:11.735961",
     "exception": false,
     "start_time": "2024-02-18T20:46:11.720396",
     "status": "completed"
    },
    "tags": []
   },
   "outputs": [],
   "source": [
    "model_path = 'best_model.pt'"
   ]
  },
  {
   "cell_type": "code",
   "execution_count": 21,
   "id": "5f82776a",
   "metadata": {
    "execution": {
     "iopub.execute_input": "2024-02-18T20:46:11.754690Z",
     "iopub.status.busy": "2024-02-18T20:46:11.754440Z",
     "iopub.status.idle": "2024-02-18T21:11:29.892831Z",
     "shell.execute_reply": "2024-02-18T21:11:29.891836Z"
    },
    "papermill": {
     "duration": 1518.167908,
     "end_time": "2024-02-18T21:11:29.912648",
     "exception": false,
     "start_time": "2024-02-18T20:46:11.744740",
     "status": "completed"
    },
    "tags": []
   },
   "outputs": [
    {
     "name": "stderr",
     "output_type": "stream",
     "text": [
      "2024-02-18 20:46:15.750235: E external/local_xla/xla/stream_executor/cuda/cuda_dnn.cc:9261] Unable to register cuDNN factory: Attempting to register factory for plugin cuDNN when one has already been registered\n",
      "2024-02-18 20:46:15.750342: E external/local_xla/xla/stream_executor/cuda/cuda_fft.cc:607] Unable to register cuFFT factory: Attempting to register factory for plugin cuFFT when one has already been registered\n",
      "2024-02-18 20:46:16.009333: E external/local_xla/xla/stream_executor/cuda/cuda_blas.cc:1515] Unable to register cuBLAS factory: Attempting to register factory for plugin cuBLAS when one has already been registered\n"
     ]
    },
    {
     "name": "stdout",
     "output_type": "stream",
     "text": [
      "EPOCH 1:\n",
      "LOSS train 0.0 valid 0.8157684206962585\n",
      "Saved model for epoch 0\n",
      "EPOCH 2:\n",
      "LOSS train 0.0 valid 0.48545485734939575\n",
      "Saved model for epoch 1\n",
      "EPOCH 3:\n",
      "LOSS train 0.0 valid 0.3805721700191498\n",
      "Saved model for epoch 2\n",
      "EPOCH 4:\n",
      "LOSS train 0.0 valid 0.3110829293727875\n",
      "Saved model for epoch 3\n",
      "EPOCH 5:\n",
      "LOSS train 0.0 valid 0.2646140456199646\n",
      "Saved model for epoch 4\n",
      "EPOCH 6:\n",
      "LOSS train 0.0 valid 0.22890478372573853\n",
      "Saved model for epoch 5\n",
      "EPOCH 7:\n",
      "LOSS train 0.0 valid 0.20256325602531433\n",
      "Saved model for epoch 6\n",
      "EPOCH 8:\n",
      "LOSS train 0.0 valid 0.17828769981861115\n",
      "Saved model for epoch 7\n",
      "EPOCH 9:\n",
      "LOSS train 0.0 valid 0.15810677409172058\n",
      "Saved model for epoch 8\n",
      "EPOCH 10:\n",
      "LOSS train 0.0 valid 0.14673921465873718\n",
      "Saved model for epoch 9\n",
      "EPOCH 11:\n",
      "LOSS train 0.0 valid 0.13278888165950775\n",
      "Saved model for epoch 10\n",
      "EPOCH 12:\n",
      "LOSS train 0.0 valid 0.12534300982952118\n",
      "Saved model for epoch 11\n",
      "EPOCH 13:\n",
      "LOSS train 0.0 valid 0.11743275076150894\n",
      "Saved model for epoch 12\n",
      "EPOCH 14:\n",
      "LOSS train 0.0 valid 0.11173327267169952\n",
      "Saved model for epoch 13\n",
      "EPOCH 15:\n",
      "LOSS train 0.0 valid 0.10456956923007965\n",
      "Saved model for epoch 14\n",
      "EPOCH 16:\n",
      "LOSS train 0.0 valid 0.1004495769739151\n",
      "Saved model for epoch 15\n",
      "EPOCH 17:\n",
      "LOSS train 0.0 valid 0.0952877327799797\n",
      "Saved model for epoch 16\n",
      "EPOCH 18:\n",
      "LOSS train 0.0 valid 0.09501423686742783\n",
      "Saved model for epoch 17\n",
      "EPOCH 19:\n",
      "LOSS train 0.0 valid 0.08886688202619553\n",
      "Saved model for epoch 18\n",
      "EPOCH 20:\n",
      "LOSS train 0.0 valid 0.09063735604286194\n",
      "EPOCH 21:\n",
      "LOSS train 0.0 valid 0.0856999009847641\n",
      "Saved model for epoch 20\n",
      "EPOCH 22:\n",
      "LOSS train 0.0 valid 0.07936999946832657\n",
      "Saved model for epoch 21\n",
      "EPOCH 23:\n",
      "LOSS train 0.0 valid 0.07947864383459091\n",
      "EPOCH 24:\n",
      "LOSS train 0.0 valid 0.07881241291761398\n",
      "Saved model for epoch 23\n",
      "EPOCH 25:\n",
      "LOSS train 0.0 valid 0.07518191635608673\n",
      "Saved model for epoch 24\n",
      "EPOCH 26:\n",
      "LOSS train 0.0 valid 0.07560092955827713\n",
      "EPOCH 27:\n",
      "LOSS train 0.0 valid 0.07359382510185242\n",
      "Saved model for epoch 26\n",
      "EPOCH 28:\n",
      "LOSS train 0.0 valid 0.07181457430124283\n",
      "Saved model for epoch 27\n",
      "EPOCH 29:\n",
      "LOSS train 0.0 valid 0.07260692119598389\n",
      "EPOCH 30:\n",
      "LOSS train 0.0 valid 0.07049025595188141\n",
      "Saved model for epoch 29\n",
      "EPOCH 31:\n",
      "LOSS train 0.0 valid 0.06555212289094925\n",
      "Saved model for epoch 30\n",
      "EPOCH 32:\n",
      "LOSS train 0.0 valid 0.06433649361133575\n",
      "Saved model for epoch 31\n",
      "EPOCH 33:\n",
      "LOSS train 0.0 valid 0.06232695281505585\n",
      "Saved model for epoch 32\n",
      "EPOCH 34:\n",
      "LOSS train 0.0 valid 0.06414511054754257\n",
      "EPOCH 35:\n",
      "LOSS train 0.0 valid 0.06280549615621567\n",
      "EPOCH 36:\n",
      "LOSS train 0.0 valid 0.06260184198617935\n",
      "EPOCH 37:\n",
      "LOSS train 0.0 valid 0.05945318564772606\n",
      "Saved model for epoch 36\n",
      "EPOCH 38:\n",
      "LOSS train 0.0 valid 0.060797158628702164\n",
      "EPOCH 39:\n",
      "LOSS train 0.0 valid 0.05852912366390228\n",
      "Saved model for epoch 38\n",
      "EPOCH 40:\n",
      "LOSS train 0.0 valid 0.06014152988791466\n",
      "EPOCH 41:\n",
      "LOSS train 0.0 valid 0.058336786925792694\n",
      "Saved model for epoch 40\n",
      "EPOCH 42:\n",
      "LOSS train 0.0 valid 0.05934901535511017\n",
      "EPOCH 43:\n",
      "LOSS train 0.0 valid 0.0566178523004055\n",
      "Saved model for epoch 42\n",
      "EPOCH 44:\n",
      "LOSS train 0.0 valid 0.05466094985604286\n",
      "Saved model for epoch 43\n",
      "EPOCH 45:\n",
      "LOSS train 0.0 valid 0.05483418330550194\n",
      "EPOCH 46:\n",
      "LOSS train 0.0 valid 0.05332481116056442\n",
      "Saved model for epoch 45\n",
      "EPOCH 47:\n",
      "LOSS train 0.0 valid 0.0538310632109642\n",
      "EPOCH 48:\n",
      "LOSS train 0.0 valid 0.05362991243600845\n",
      "EPOCH 49:\n",
      "LOSS train 0.0 valid 0.051215268671512604\n",
      "Saved model for epoch 48\n",
      "EPOCH 50:\n",
      "LOSS train 0.0 valid 0.05235689878463745\n",
      "EPOCH 51:\n",
      "LOSS train 0.0 valid 0.05014481022953987\n",
      "Saved model for epoch 50\n",
      "EPOCH 52:\n",
      "LOSS train 0.0 valid 0.05111100524663925\n",
      "EPOCH 53:\n",
      "LOSS train 0.0 valid 0.050419602543115616\n",
      "EPOCH 54:\n",
      "LOSS train 0.0 valid 0.0503777377307415\n",
      "EPOCH 55:\n",
      "LOSS train 0.0 valid 0.050680965185165405\n",
      "EPOCH 56:\n",
      "LOSS train 0.0 valid 0.049240194261074066\n",
      "Saved model for epoch 55\n",
      "EPOCH 57:\n",
      "LOSS train 0.0 valid 0.047126404941082\n",
      "Saved model for epoch 56\n",
      "EPOCH 58:\n",
      "LOSS train 0.0 valid 0.048357199877500534\n",
      "EPOCH 59:\n",
      "LOSS train 0.0 valid 0.04672735929489136\n",
      "Saved model for epoch 58\n",
      "EPOCH 60:\n",
      "LOSS train 0.0 valid 0.047799158841371536\n",
      "EPOCH 61:\n",
      "LOSS train 0.0 valid 0.04782732203602791\n",
      "EPOCH 62:\n",
      "LOSS train 0.0 valid 0.04709061607718468\n",
      "EPOCH 63:\n",
      "LOSS train 0.0 valid 0.04469679296016693\n",
      "Saved model for epoch 62\n",
      "EPOCH 64:\n",
      "LOSS train 0.0 valid 0.04555102065205574\n",
      "EPOCH 65:\n",
      "LOSS train 0.0 valid 0.04712570458650589\n",
      "EPOCH 66:\n",
      "LOSS train 0.0 valid 0.04632585495710373\n",
      "EPOCH 67:\n",
      "LOSS train 0.0 valid 0.04434701427817345\n",
      "Saved model for epoch 66\n",
      "EPOCH 68:\n",
      "LOSS train 0.0 valid 0.0461360365152359\n",
      "EPOCH 69:\n",
      "LOSS train 0.0 valid 0.04435409978032112\n",
      "EPOCH 70:\n",
      "LOSS train 0.0 valid 0.044047847390174866\n",
      "Saved model for epoch 69\n",
      "EPOCH 71:\n",
      "LOSS train 0.0 valid 0.043663956224918365\n",
      "Saved model for epoch 70\n",
      "EPOCH 72:\n",
      "LOSS train 0.0 valid 0.04399567469954491\n",
      "EPOCH 73:\n",
      "LOSS train 0.0 valid 0.042705100029706955\n",
      "Saved model for epoch 72\n",
      "EPOCH 74:\n",
      "LOSS train 0.0 valid 0.04276018217206001\n",
      "EPOCH 75:\n",
      "LOSS train 0.0 valid 0.04351472854614258\n",
      "EPOCH 76:\n",
      "LOSS train 0.0 valid 0.04392059147357941\n",
      "EPOCH 77:\n",
      "LOSS train 0.0 valid 0.04268009960651398\n",
      "Saved model for epoch 76\n",
      "EPOCH 78:\n",
      "LOSS train 0.0 valid 0.04327581450343132\n",
      "EPOCH 79:\n",
      "LOSS train 0.0 valid 0.04196096211671829\n",
      "Saved model for epoch 78\n",
      "EPOCH 80:\n",
      "LOSS train 0.0 valid 0.04031948000192642\n",
      "Saved model for epoch 79\n",
      "EPOCH 81:\n",
      "LOSS train 0.0 valid 0.04175949841737747\n",
      "EPOCH 82:\n",
      "LOSS train 0.0 valid 0.040122754871845245\n",
      "Saved model for epoch 81\n",
      "EPOCH 83:\n",
      "LOSS train 0.0 valid 0.04008894041180611\n",
      "Saved model for epoch 82\n",
      "EPOCH 84:\n",
      "LOSS train 0.0 valid 0.04002762585878372\n",
      "Saved model for epoch 83\n",
      "EPOCH 85:\n",
      "LOSS train 0.0 valid 0.038063131272792816\n",
      "Saved model for epoch 84\n",
      "EPOCH 86:\n",
      "LOSS train 0.0 valid 0.04367474839091301\n",
      "EPOCH 87:\n",
      "LOSS train 0.0 valid 0.03945181146264076\n",
      "EPOCH 88:\n",
      "LOSS train 0.0 valid 0.03926308825612068\n",
      "EPOCH 89:\n",
      "LOSS train 0.0 valid 0.03911260515451431\n",
      "EPOCH 90:\n",
      "LOSS train 0.0 valid 0.03952457755804062\n",
      "EPOCH 91:\n",
      "LOSS train 0.0 valid 0.037938300520181656\n",
      "Saved model for epoch 90\n",
      "EPOCH 92:\n",
      "LOSS train 0.0 valid 0.03988783806562424\n",
      "EPOCH 93:\n",
      "LOSS train 0.0 valid 0.038857121020555496\n",
      "EPOCH 94:\n",
      "LOSS train 0.0 valid 0.037998851388692856\n",
      "EPOCH 95:\n",
      "LOSS train 0.0 valid 0.038140252232551575\n",
      "EPOCH 96:\n",
      "LOSS train 0.0 valid 0.0366673618555069\n",
      "Saved model for epoch 95\n",
      "EPOCH 97:\n",
      "LOSS train 0.0 valid 0.03665291145443916\n",
      "Saved model for epoch 96\n",
      "EPOCH 98:\n",
      "LOSS train 0.0 valid 0.03682631626725197\n",
      "EPOCH 99:\n",
      "LOSS train 0.0 valid 0.03816072270274162\n",
      "EPOCH 100:\n",
      "LOSS train 0.0 valid 0.035593967884778976\n",
      "Saved model for epoch 99\n"
     ]
    }
   ],
   "source": [
    "from  datetime import datetime\n",
    "from torch.utils.tensorboard import SummaryWriter\n",
    "\n",
    "timestamp = datetime.now().strftime('%Y%m%d_%H%M%S')\n",
    "writer = SummaryWriter('runs/apply_transformesrs_nonorm_simplecnn_alldata_dropout25_epoch100_degress45{}'.format(timestamp))\n",
    "epoch_number = 0\n",
    "\n",
    "EPOCHS = 100\n",
    "\n",
    "best_vloss = 1_000_000.\n",
    "\n",
    "for epoch in range(EPOCHS):\n",
    "    print('EPOCH {}:'.format(epoch_number + 1))\n",
    "\n",
    "    # Make sure gradient tracking is on, and do a pass over the data\n",
    "    model.train(True)\n",
    "    avg_loss = train_one_epoch(epoch_number, writer)\n",
    "\n",
    "    epoch_true_pred = 0\n",
    "    running_vloss = 0.0\n",
    "    # Set the model to evaluation mode, disabling dropout and using population\n",
    "    # statistics for batch normalization.\n",
    "    model.eval()\n",
    "\n",
    "    # Disable gradient computation and reduce memory consumption.\n",
    "    with torch.no_grad():\n",
    "        for i, vdata in enumerate(val_dataloader):\n",
    "            vinputs, vlabels = vdata\n",
    "            vinputs = vinputs.to(device)\n",
    "            vlabels = vlabels.to(device)\n",
    "            voutputs = model(vinputs)            \n",
    "            vloss = loss_fn(voutputs, vlabels)\n",
    "            running_vloss += vloss\n",
    "            pred = voutputs.argmax(-1)\n",
    "            epoch_true_pred += torch.sum(pred == vlabels)\n",
    "\n",
    "    avg_vloss = running_vloss / (i + 1)\n",
    "    print('LOSS train {} valid {}'.format(avg_loss, avg_vloss))\n",
    "\n",
    "    # Log the running loss averaged per batch\n",
    "    # for both training and validation\n",
    "    writer.add_scalars('Training vs. Validation Loss',\n",
    "                    { 'Training' : avg_loss, 'Validation' : avg_vloss },\n",
    "                    epoch_number + 1)\n",
    "    writer.add_scalars('Validation Metrics',\n",
    "                    { 'Accuracy' : epoch_true_pred / len(val_dataset)}, #'F1' : f1_score(pred.cpu(), vlabels.cpu()) },\n",
    "                    epoch_number + 1)\n",
    "    writer.flush()\n",
    "\n",
    "    # Track best performance, and save the model's state\n",
    "    if avg_vloss < best_vloss:\n",
    "        best_vloss = avg_vloss\n",
    "        #'model_{}_{}'.format(timestamp, epoch_number)\n",
    "        print(f\"Saved model for epoch {epoch_number}\")\n",
    "        torch.save(model.state_dict(), model_path)\n",
    "\n",
    "    epoch_number += 1"
   ]
  },
  {
   "cell_type": "code",
   "execution_count": 22,
   "id": "42d9335e",
   "metadata": {
    "execution": {
     "iopub.execute_input": "2024-02-18T21:11:29.949665Z",
     "iopub.status.busy": "2024-02-18T21:11:29.949050Z",
     "iopub.status.idle": "2024-02-18T21:11:29.963082Z",
     "shell.execute_reply": "2024-02-18T21:11:29.962128Z"
    },
    "papermill": {
     "duration": 0.03449,
     "end_time": "2024-02-18T21:11:29.965158",
     "exception": false,
     "start_time": "2024-02-18T21:11:29.930668",
     "status": "completed"
    },
    "tags": []
   },
   "outputs": [
    {
     "data": {
      "text/plain": [
       "<All keys matched successfully>"
      ]
     },
     "execution_count": 22,
     "metadata": {},
     "output_type": "execute_result"
    }
   ],
   "source": [
    "new_model = SimpleDropoutCNN().to(device)\n",
    "new_model.load_state_dict(torch.load(model_path))"
   ]
  },
  {
   "cell_type": "code",
   "execution_count": 23,
   "id": "d7c7f843",
   "metadata": {
    "execution": {
     "iopub.execute_input": "2024-02-18T21:11:30.001382Z",
     "iopub.status.busy": "2024-02-18T21:11:30.001090Z",
     "iopub.status.idle": "2024-02-18T21:11:30.007082Z",
     "shell.execute_reply": "2024-02-18T21:11:30.006153Z"
    },
    "papermill": {
     "duration": 0.026426,
     "end_time": "2024-02-18T21:11:30.009055",
     "exception": false,
     "start_time": "2024-02-18T21:11:29.982629",
     "status": "completed"
    },
    "tags": []
   },
   "outputs": [
    {
     "data": {
      "text/plain": [
       "SimpleDropoutCNN(\n",
       "  (conv1): Conv2d(1, 16, kernel_size=(3, 3), stride=(1, 1), padding=(1, 1))\n",
       "  (conv2): Conv2d(16, 32, kernel_size=(3, 3), stride=(1, 1), padding=(1, 1))\n",
       "  (fc1): Linear(in_features=1568, out_features=128, bias=True)\n",
       "  (fc2): Linear(in_features=128, out_features=10, bias=True)\n",
       "  (dropout): Dropout(p=0.25, inplace=False)\n",
       ")"
      ]
     },
     "execution_count": 23,
     "metadata": {},
     "output_type": "execute_result"
    }
   ],
   "source": [
    "new_model.eval()"
   ]
  },
  {
   "cell_type": "code",
   "execution_count": 24,
   "id": "2c7fd650",
   "metadata": {
    "execution": {
     "iopub.execute_input": "2024-02-18T21:11:30.051567Z",
     "iopub.status.busy": "2024-02-18T21:11:30.051151Z",
     "iopub.status.idle": "2024-02-18T21:11:30.082391Z",
     "shell.execute_reply": "2024-02-18T21:11:30.081414Z"
    },
    "papermill": {
     "duration": 0.054596,
     "end_time": "2024-02-18T21:11:30.084704",
     "exception": false,
     "start_time": "2024-02-18T21:11:30.030108",
     "status": "completed"
    },
    "tags": []
   },
   "outputs": [],
   "source": [
    "with torch.no_grad():\n",
    "    output = new_model(test.to(device))\n",
    "    output = output.argmax(-1)\n",
    "    pass"
   ]
  },
  {
   "cell_type": "code",
   "execution_count": 25,
   "id": "0731457b",
   "metadata": {
    "execution": {
     "iopub.execute_input": "2024-02-18T21:11:30.123113Z",
     "iopub.status.busy": "2024-02-18T21:11:30.122805Z",
     "iopub.status.idle": "2024-02-18T21:11:30.180584Z",
     "shell.execute_reply": "2024-02-18T21:11:30.179712Z"
    },
    "papermill": {
     "duration": 0.079096,
     "end_time": "2024-02-18T21:11:30.182621",
     "exception": false,
     "start_time": "2024-02-18T21:11:30.103525",
     "status": "completed"
    },
    "tags": []
   },
   "outputs": [],
   "source": [
    "sample_submission_df['Label'] = output.cpu().numpy()"
   ]
  },
  {
   "cell_type": "code",
   "execution_count": 26,
   "id": "720773c8",
   "metadata": {
    "execution": {
     "iopub.execute_input": "2024-02-18T21:11:30.220041Z",
     "iopub.status.busy": "2024-02-18T21:11:30.219284Z",
     "iopub.status.idle": "2024-02-18T21:11:30.263934Z",
     "shell.execute_reply": "2024-02-18T21:11:30.263262Z"
    },
    "papermill": {
     "duration": 0.065483,
     "end_time": "2024-02-18T21:11:30.265811",
     "exception": false,
     "start_time": "2024-02-18T21:11:30.200328",
     "status": "completed"
    },
    "tags": []
   },
   "outputs": [],
   "source": [
    "sample_submission_df.to_csv('submission.csv', index=False)"
   ]
  }
 ],
 "metadata": {
  "kaggle": {
   "accelerator": "nvidiaTeslaT4",
   "dataSources": [
    {
     "databundleVersionId": 861823,
     "sourceId": 3004,
     "sourceType": "competition"
    }
   ],
   "dockerImageVersionId": 30646,
   "isGpuEnabled": true,
   "isInternetEnabled": true,
   "language": "python",
   "sourceType": "notebook"
  },
  "kernelspec": {
   "display_name": "Python 3",
   "language": "python",
   "name": "python3"
  },
  "language_info": {
   "codemirror_mode": {
    "name": "ipython",
    "version": 3
   },
   "file_extension": ".py",
   "mimetype": "text/x-python",
   "name": "python",
   "nbconvert_exporter": "python",
   "pygments_lexer": "ipython3",
   "version": "3.10.13"
  },
  "papermill": {
   "default_parameters": {},
   "duration": 1550.781734,
   "end_time": "2024-02-18T21:11:33.928578",
   "environment_variables": {},
   "exception": null,
   "input_path": "__notebook__.ipynb",
   "output_path": "__notebook__.ipynb",
   "parameters": {},
   "start_time": "2024-02-18T20:45:43.146844",
   "version": "2.5.0"
  }
 },
 "nbformat": 4,
 "nbformat_minor": 5
}
